{
  "nbformat": 4,
  "nbformat_minor": 0,
  "metadata": {
    "colab": {
      "name": "LocallyConnectedDeepLearning.ipynb",
      "provenance": [],
      "collapsed_sections": []
    },
    "kernelspec": {
      "name": "python3",
      "display_name": "Python 3"
    },
    "language_info": {
      "name": "python"
    }
  },
  "cells": [
    {
      "cell_type": "code",
      "metadata": {
        "id": "6pCJkldsCmgL"
      },
      "source": [
        "import pandas as pd\n",
        "import numpy as np\n",
        "import tensorflow as tf\n",
        "from tensorflow import keras\n",
        "import matplotlib as plt\n",
        "from tensorflow.keras import layers\n",
        "from keras.layers import Activation, Dense, LocallyConnected1D\n",
        "from keras.layers import LocallyConnected2D, MaxPooling2D"
      ],
      "execution_count": 1,
      "outputs": []
    },
    {
      "cell_type": "code",
      "metadata": {
        "colab": {
          "base_uri": "https://localhost:8080/"
        },
        "id": "KGvc1ko_aqP-",
        "outputId": "f52bc99b-25a8-4bfd-e733-0849f8021bab"
      },
      "source": [
        "from google.colab import drive\n",
        "drive.mount('/content/drive')"
      ],
      "execution_count": 2,
      "outputs": [
        {
          "output_type": "stream",
          "name": "stdout",
          "text": [
            "Drive already mounted at /content/drive; to attempt to forcibly remount, call drive.mount(\"/content/drive\", force_remount=True).\n"
          ]
        }
      ]
    },
    {
      "cell_type": "code",
      "metadata": {
        "id": "fffL-euRCtop"
      },
      "source": [
        "train_df = pd.read_csv(\"/content/drive/MyDrive/train7291.csv\")\n",
        "test_df = pd.read_csv(\"/content/drive/MyDrive/test2007.csv\")"
      ],
      "execution_count": 3,
      "outputs": []
    },
    {
      "cell_type": "code",
      "metadata": {
        "colab": {
          "base_uri": "https://localhost:8080/"
        },
        "id": "hfUM6TOOaQXV",
        "outputId": "07a9abe9-1768-48a2-800f-d6f39d1fffa1"
      },
      "source": [
        "# Converts into a numpy array\n",
        "train_set = train_df.values\n",
        "print(train_set.size)\n",
        "test_set = test_df.values\n",
        "print(test_set.size)"
      ],
      "execution_count": 4,
      "outputs": [
        {
          "output_type": "stream",
          "name": "stdout",
          "text": [
            "1873787\n",
            "515799\n"
          ]
        }
      ]
    },
    {
      "cell_type": "code",
      "metadata": {
        "colab": {
          "base_uri": "https://localhost:8080/"
        },
        "id": "iK2JzQYJaQz-",
        "outputId": "880aa9f7-c300-46c0-ae34-94e6ffcbfc87"
      },
      "source": [
        "# Separate labels and features\n",
        "x_train = train_set[:,1:257]\n",
        "x_test = test_set[:,1:257]\n",
        "\n",
        "y_train = train_set[:,0]\n",
        "y_test = test_set[:,0]\n",
        "\n",
        "#convert labels -> int\n",
        "y_test = y_test.astype(int)\n",
        "y_train = y_train.astype(int)\n",
        "print(\"Test labels: \", y_test)\n",
        "print(\"Train labels: \", y_train)"
      ],
      "execution_count": 5,
      "outputs": [
        {
          "output_type": "stream",
          "name": "stdout",
          "text": [
            "Test labels:  [9 6 3 ... 4 0 1]\n",
            "Train labels:  [6 5 4 ... 3 0 1]\n"
          ]
        }
      ]
    },
    {
      "cell_type": "code",
      "metadata": {
        "colab": {
          "base_uri": "https://localhost:8080/"
        },
        "id": "6rN648KIaUOg",
        "outputId": "7433cba2-7eb6-46fa-b80f-f9bed21f5785"
      },
      "source": [
        "# x_train: Dimension, shape, size\n",
        "print(x_train.ndim)\n",
        "x_train = x_train.reshape(7291, 16, 16)\n",
        "print(x_train.shape)\n",
        "print(x_train.size)"
      ],
      "execution_count": 6,
      "outputs": [
        {
          "output_type": "stream",
          "name": "stdout",
          "text": [
            "2\n",
            "(7291, 16, 16)\n",
            "1866496\n"
          ]
        }
      ]
    },
    {
      "cell_type": "code",
      "metadata": {
        "colab": {
          "base_uri": "https://localhost:8080/"
        },
        "id": "FT7jxE2ZaWUK",
        "outputId": "832aa0ac-c624-4497-d890-5f856f41a97a"
      },
      "source": [
        "# y_train: Shape, size, dimension\n",
        "print(y_train.ndim)\n",
        "print(y_train.shape)\n",
        "print(y_train.size)"
      ],
      "execution_count": 7,
      "outputs": [
        {
          "output_type": "stream",
          "name": "stdout",
          "text": [
            "1\n",
            "(7291,)\n",
            "7291\n"
          ]
        }
      ]
    },
    {
      "cell_type": "code",
      "metadata": {
        "id": "cgcww7yYaX9w"
      },
      "source": [
        "#scale the images to the [0,1] range\n",
        "x_train = x_train.astype(\"float32\")/255\n",
        "x_test = x_test.astype(\"float32\") / 255"
      ],
      "execution_count": 8,
      "outputs": []
    },
    {
      "cell_type": "code",
      "metadata": {
        "colab": {
          "base_uri": "https://localhost:8080/"
        },
        "id": "KnEESoG8aaAo",
        "outputId": "cd4d57a0-c639-4db9-e0e1-da63f6762985"
      },
      "source": [
        "# Change the image shape\n",
        "x_train = np.expand_dims(x_train,-1)\n",
        "x_test = np.expand_dims(x_test, -1)\n",
        "print(\"x_train shape:\", x_train.shape)\n",
        "print(x_train.shape[0], \"train samples\")\n",
        "print(x_test.shape[0], \"test samples\")"
      ],
      "execution_count": 9,
      "outputs": [
        {
          "output_type": "stream",
          "name": "stdout",
          "text": [
            "x_train shape: (7291, 16, 16, 1)\n",
            "7291 train samples\n",
            "2007 test samples\n"
          ]
        }
      ]
    },
    {
      "cell_type": "code",
      "metadata": {
        "id": "ecMEYaPWab9F"
      },
      "source": [
        "# convert class vectors to binary class matrices\n",
        "num_classes = 10\n",
        "input_shape = (16,16,1)"
      ],
      "execution_count": 10,
      "outputs": []
    },
    {
      "cell_type": "code",
      "metadata": {
        "id": "Ln959MvZbVTs"
      },
      "source": [
        "# Parameter initialization strategies\n",
        "initializerOne = tf.keras.initializers.Constant(1.)\n",
        "initializerTwo = tf.keras.initializers.Constant(0.5)\n",
        "initializerThree = tf.keras.initializers.Constant(0.1)\n",
        "initializerFour = tf.keras.initializers.Constant(5.)\n",
        "\n",
        "# Learning rate optimizer/scheduler\n",
        "initial_learning_rate = 0.01\n",
        "lr_schedule = tf.keras.optimizers.schedules.ExponentialDecay(\n",
        "    initial_learning_rate,\n",
        "    decay_steps=10000,\n",
        "    decay_rate=0.92,\n",
        "    staircase=True)"
      ],
      "execution_count": 11,
      "outputs": []
    },
    {
      "cell_type": "code",
      "metadata": {
        "colab": {
          "base_uri": "https://localhost:8080/"
        },
        "id": "dCwAttVYadmu",
        "outputId": "bc1756a4-2111-4a74-b071-6893c040b557"
      },
      "source": [
        "#CAUTION -> Running this twice will increase the dimension of y_test and y_train\n",
        "y_train = keras.utils.to_categorical(y_train, num_classes)\n",
        "y_test = keras.utils.to_categorical(y_test, num_classes)\n",
        "print(y_train.shape)"
      ],
      "execution_count": 12,
      "outputs": [
        {
          "output_type": "stream",
          "name": "stdout",
          "text": [
            "(7291, 10)\n"
          ]
        }
      ]
    },
    {
      "cell_type": "code",
      "metadata": {
        "colab": {
          "base_uri": "https://localhost:8080/"
        },
        "id": "skavhat8afIG",
        "outputId": "efa59980-af15-4b29-80b1-95ccb9f6ab00"
      },
      "source": [
        "# model with zero wight initializer\n",
        "'''\n",
        "initializerZero = tf.keras.initializers.Zeros()\n",
        "\n",
        "model = keras.Sequential(\n",
        "    [\n",
        "        keras.Input(shape=input_shape),\n",
        "        layers.LocallyConnected2D(32, kernel_size=(3, 3), activation=\"relu\", kernel_initializer=initializerZero),\n",
        "        layers.MaxPooling2D(pool_size=(2, 2)),\n",
        "        layers.LocallyConnected2D(64, kernel_size=(3, 3), activation=\"tanh\", kernel_initializer=initializerZero),\n",
        "        layers.MaxPooling2D(pool_size=(2, 2)),\n",
        "        layers.Flatten(),\n",
        "        layers.Dropout(0.5),\n",
        "        layers.Dense(num_classes, activation=\"softmax\"),\n",
        "    ]\n",
        ")\n",
        "\n",
        "\n",
        "model.summary()'''"
      ],
      "execution_count": 24,
      "outputs": [
        {
          "output_type": "stream",
          "name": "stdout",
          "text": [
            "Model: \"sequential_4\"\n",
            "_________________________________________________________________\n",
            "Layer (type)                 Output Shape              Param #   \n",
            "=================================================================\n",
            "locally_connected2d_8 (Local (None, 14, 14, 32)        62720     \n",
            "_________________________________________________________________\n",
            "max_pooling2d_8 (MaxPooling2 (None, 7, 7, 32)          0         \n",
            "_________________________________________________________________\n",
            "locally_connected2d_9 (Local (None, 5, 5, 64)          462400    \n",
            "_________________________________________________________________\n",
            "max_pooling2d_9 (MaxPooling2 (None, 2, 2, 64)          0         \n",
            "_________________________________________________________________\n",
            "flatten_4 (Flatten)          (None, 256)               0         \n",
            "_________________________________________________________________\n",
            "dropout_4 (Dropout)          (None, 256)               0         \n",
            "_________________________________________________________________\n",
            "dense_4 (Dense)              (None, 10)                2570      \n",
            "=================================================================\n",
            "Total params: 527,690\n",
            "Trainable params: 527,690\n",
            "Non-trainable params: 0\n",
            "_________________________________________________________________\n"
          ]
        }
      ]
    },
    {
      "cell_type": "code",
      "metadata": {
        "id": "oVZio-vzAOD3",
        "outputId": "e9c4b4f5-2f60-45d9-94dd-d2a381d18859",
        "colab": {
          "base_uri": "https://localhost:8080/"
        }
      },
      "source": [
        "# model with orthogonal class wight initializer\n",
        "'''\n",
        "initializerOth = tf.keras.initializers.Orthogonal(gain=1.0, seed=None)\n",
        "\n",
        "model = keras.Sequential(\n",
        "    [\n",
        "        keras.Input(shape=input_shape),\n",
        "        layers.LocallyConnected2D(32, kernel_size=(3, 3), activation=\"relu\", kernel_initializer=initializerOth),\n",
        "        layers.MaxPooling2D(pool_size=(2, 2)),\n",
        "        layers.LocallyConnected2D(64, kernel_size=(3, 3), activation=\"tanh\", kernel_initializer=initializerOth),\n",
        "        layers.MaxPooling2D(pool_size=(2, 2)),\n",
        "        layers.Flatten(),\n",
        "        layers.Dropout(0.5),\n",
        "        layers.Dense(num_classes, activation=\"softmax\"),\n",
        "    ]\n",
        ")\n",
        "\n",
        "'''\n",
        "model.summary()"
      ],
      "execution_count": 17,
      "outputs": [
        {
          "output_type": "stream",
          "name": "stdout",
          "text": [
            "Model: \"sequential_1\"\n",
            "_________________________________________________________________\n",
            "Layer (type)                 Output Shape              Param #   \n",
            "=================================================================\n",
            "locally_connected2d_2 (Local (None, 14, 14, 32)        62720     \n",
            "_________________________________________________________________\n",
            "max_pooling2d_2 (MaxPooling2 (None, 7, 7, 32)          0         \n",
            "_________________________________________________________________\n",
            "locally_connected2d_3 (Local (None, 5, 5, 64)          462400    \n",
            "_________________________________________________________________\n",
            "max_pooling2d_3 (MaxPooling2 (None, 2, 2, 64)          0         \n",
            "_________________________________________________________________\n",
            "flatten_1 (Flatten)          (None, 256)               0         \n",
            "_________________________________________________________________\n",
            "dropout_1 (Dropout)          (None, 256)               0         \n",
            "_________________________________________________________________\n",
            "dense_1 (Dense)              (None, 10)                2570      \n",
            "=================================================================\n",
            "Total params: 527,690\n",
            "Trainable params: 527,690\n",
            "Non-trainable params: 0\n",
            "_________________________________________________________________\n"
          ]
        }
      ]
    },
    {
      "cell_type": "code",
      "metadata": {
        "id": "XUNcDwI_CPxH",
        "outputId": "0d7b76e0-50fe-4095-a4d3-2a46d0ad206c",
        "colab": {
          "base_uri": "https://localhost:8080/"
        }
      },
      "source": [
        "# model with One values wight initializer\n",
        "'''\n",
        "initializerOnes = tf.keras.initializers.Ones()\n",
        "\n",
        "model = keras.Sequential(\n",
        "    [\n",
        "        keras.Input(shape=input_shape),\n",
        "        layers.LocallyConnected2D(32, kernel_size=(3, 3), activation=\"relu\", kernel_initializer=initializerOnes),\n",
        "        layers.MaxPooling2D(pool_size=(2, 2)),\n",
        "        layers.LocallyConnected2D(64, kernel_size=(3, 3), activation=\"tanh\", kernel_initializer=initializerOnes),\n",
        "        layers.MaxPooling2D(pool_size=(2, 2)),\n",
        "        layers.Flatten(),\n",
        "        layers.Dropout(0.5),\n",
        "        layers.Dense(num_classes, activation=\"softmax\"),\n",
        "    ]\n",
        ")\n",
        "\n",
        "model.summary()'''"
      ],
      "execution_count": 20,
      "outputs": [
        {
          "output_type": "stream",
          "name": "stdout",
          "text": [
            "Model: \"sequential_2\"\n",
            "_________________________________________________________________\n",
            "Layer (type)                 Output Shape              Param #   \n",
            "=================================================================\n",
            "locally_connected2d_4 (Local (None, 14, 14, 32)        62720     \n",
            "_________________________________________________________________\n",
            "max_pooling2d_4 (MaxPooling2 (None, 7, 7, 32)          0         \n",
            "_________________________________________________________________\n",
            "locally_connected2d_5 (Local (None, 5, 5, 64)          462400    \n",
            "_________________________________________________________________\n",
            "max_pooling2d_5 (MaxPooling2 (None, 2, 2, 64)          0         \n",
            "_________________________________________________________________\n",
            "flatten_2 (Flatten)          (None, 256)               0         \n",
            "_________________________________________________________________\n",
            "dropout_2 (Dropout)          (None, 256)               0         \n",
            "_________________________________________________________________\n",
            "dense_2 (Dense)              (None, 10)                2570      \n",
            "=================================================================\n",
            "Total params: 527,690\n",
            "Trainable params: 527,690\n",
            "Non-trainable params: 0\n",
            "_________________________________________________________________\n"
          ]
        }
      ]
    },
    {
      "cell_type": "code",
      "metadata": {
        "id": "YRCGA5ivDjs2",
        "outputId": "d910e5e2-f011-4389-c997-a879e44ad371",
        "colab": {
          "base_uri": "https://localhost:8080/"
        }
      },
      "source": [
        "# model with Random Normal values wight initializer\n",
        "'''\n",
        "initializerRanNorm = tf.keras.initializers.RandomNormal(mean=0.0, stddev=0.05, seed=None)\n",
        "\n",
        "model = keras.Sequential(\n",
        "    [\n",
        "        keras.Input(shape=input_shape),\n",
        "        layers.LocallyConnected2D(32, kernel_size=(3, 3), activation=\"relu\", kernel_initializer=initializerRanNorm),\n",
        "        layers.MaxPooling2D(pool_size=(2, 2)),\n",
        "        layers.LocallyConnected2D(64, kernel_size=(3, 3), activation=\"tanh\", kernel_initializer=initializerRanNorm),\n",
        "        layers.MaxPooling2D(pool_size=(2, 2)),\n",
        "        layers.Flatten(),\n",
        "        layers.Dropout(0.5),\n",
        "        layers.Dense(num_classes, activation=\"softmax\"),\n",
        "    ]\n",
        ")\n",
        "\n",
        "model.summary()'''"
      ],
      "execution_count": 22,
      "outputs": [
        {
          "output_type": "stream",
          "name": "stdout",
          "text": [
            "Model: \"sequential_3\"\n",
            "_________________________________________________________________\n",
            "Layer (type)                 Output Shape              Param #   \n",
            "=================================================================\n",
            "locally_connected2d_6 (Local (None, 14, 14, 32)        62720     \n",
            "_________________________________________________________________\n",
            "max_pooling2d_6 (MaxPooling2 (None, 7, 7, 32)          0         \n",
            "_________________________________________________________________\n",
            "locally_connected2d_7 (Local (None, 5, 5, 64)          462400    \n",
            "_________________________________________________________________\n",
            "max_pooling2d_7 (MaxPooling2 (None, 2, 2, 64)          0         \n",
            "_________________________________________________________________\n",
            "flatten_3 (Flatten)          (None, 256)               0         \n",
            "_________________________________________________________________\n",
            "dropout_3 (Dropout)          (None, 256)               0         \n",
            "_________________________________________________________________\n",
            "dense_3 (Dense)              (None, 10)                2570      \n",
            "=================================================================\n",
            "Total params: 527,690\n",
            "Trainable params: 527,690\n",
            "Non-trainable params: 0\n",
            "_________________________________________________________________\n"
          ]
        }
      ]
    },
    {
      "cell_type": "code",
      "metadata": {
        "id": "UT1Ce2HgFUw8"
      },
      "source": [
        "# non Initialization, basic model\n",
        "\n",
        "model = keras.Sequential(\n",
        "    [\n",
        "        keras.Input(shape=input_shape),\n",
        "        layers.LocallyConnected2D(32, kernel_size=(3, 3), activation=\"relu\"),\n",
        "        layers.MaxPooling2D(pool_size=(2, 2)),\n",
        "        layers.LocallyConnected2D(64, kernel_size=(3, 3), activation=\"tanh\"),\n",
        "        layers.MaxPooling2D(pool_size=(2, 2)),\n",
        "        layers.Flatten(),\n",
        "        layers.Dropout(0.5),\n",
        "        layers.Dense(num_classes, activation=\"softmax\"),\n",
        "    ]\n",
        ")\n",
        "\n",
        "model.summary()"
      ],
      "execution_count": null,
      "outputs": []
    },
    {
      "cell_type": "code",
      "metadata": {
        "id": "A7YZiu-raliM"
      },
      "source": [
        "# Batch size testing for optimization 128, 64 and 10\n",
        "# Uncomment the respective batch size for each test\n",
        "\n",
        "'''\n",
        "#batch_size = 128 \n",
        "#batch_size = 64\n",
        "#batch_size = 10\n",
        "epochs = 15\n",
        "model.compile(loss=\"categorical_crossentropy\", optimizer=\"adam\", metrics=[\"accuracy\"])\n",
        "\n",
        "model.fit(x_train, y_train, batch_size=batch_size, epochs=epochs, validation_split=0.1)\n",
        "'''"
      ],
      "execution_count": null,
      "outputs": []
    },
    {
      "cell_type": "code",
      "metadata": {
        "id": "wTfE4Es4KK1L"
      },
      "source": [
        "# Learning rate optimization code block\n",
        "# Uncomment each optimizer depending on the learning rate to test\n",
        "\n",
        "'''\n",
        "batch_size = 128\n",
        "epochs = 15\n",
        "#optimizer = keras.optimizers.Adam(lr=0.01)  # uncoment for First test learning rate = 0.01\n",
        "#optimizer = keras.optimizers.Adam(lr=0.001) # uncoment for Second test learning rate = 0.001\n",
        "#optimizer = keras.optimizers.Adam(lr=0.0001) # uncoment for Third test learning rate = 0.0001\n",
        "model.compile(loss=\"categorical_crossentropy\", optimizer=optimizer, metrics=[\"accuracy\"])\n",
        "\n",
        "model.fit(x_train, y_train, batch_size=batch_size, epochs=epochs, validation_split=0.1)\n",
        "'''\n"
      ],
      "execution_count": null,
      "outputs": []
    },
    {
      "cell_type": "code",
      "metadata": {
        "id": "fw0TM6rlNZ6x"
      },
      "source": [
        "# Mommentum optimization code block\n",
        "# Uncomment each sgd depending on the mommentum to test\n",
        "\n",
        "'''\n",
        "batch_size = 128\n",
        "epochs = 15\n",
        "\n",
        "#sgd = tf.keras.optimizers.SGD(lr=0.0001, momentum=0.5, nesterov=True)\n",
        "#sgd = tf.keras.optimizers.SGD(lr=0.0001, momentum=0.9, nesterov=True)\n",
        "#sgd = tf.keras.optimizers.SGD(lr=0.0001, momentum=0.99, nesterov=True)\n",
        "\n",
        "model.compile(loss=\"categorical_crossentropy\", optimizer=sgd, metrics=[\"accuracy\"])\n",
        "\n",
        "model.fit(x_train, y_train, batch_size=batch_size, epochs=epochs, validation_split=0.1)\n",
        "'''\n"
      ],
      "execution_count": null,
      "outputs": []
    },
    {
      "cell_type": "code",
      "metadata": {
        "id": "scXCAXeqQK16"
      },
      "source": [
        "batch_size = 128\n",
        "epochs = 15\n",
        "\n",
        "model.compile(loss=\"categorical_crossentropy\", optimizer=\"adam\", metrics=[\"accuracy\"])\n",
        "\n",
        "model.fit(x_train, y_train, batch_size=batch_size, epochs=epochs, validation_split=0.1)"
      ],
      "execution_count": null,
      "outputs": []
    },
    {
      "cell_type": "code",
      "metadata": {
        "colab": {
          "base_uri": "https://localhost:8080/"
        },
        "id": "URbxvo17a0mO",
        "outputId": "3e265544-7ea1-4bea-941b-b2ce1cbb8213"
      },
      "source": [
        "score = model.evaluate(x_train, y_train, verbose=0)\n",
        "print(\"Test loss:\", score[0])\n",
        "print(\"Test accuracy:\", score[1])"
      ],
      "execution_count": 38,
      "outputs": [
        {
          "output_type": "stream",
          "name": "stdout",
          "text": [
            "Test loss: 0.015274176374077797\n",
            "Test accuracy: 0.9968454241752625\n"
          ]
        }
      ]
    }
  ]
}